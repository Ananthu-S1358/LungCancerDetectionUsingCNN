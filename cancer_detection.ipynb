{
 "cells": [
  {
   "cell_type": "markdown",
   "metadata": {
    "colab_type": "text",
    "id": "3DR-eO17geWu"
   },
   "source": [
    "# Chest and Lung Cancer Prediction Convolutional Neural Network"
   ]
  },
  {
   "cell_type": "markdown",
   "metadata": {
    "colab_type": "text",
    "id": "EMefrVPCg-60"
   },
   "source": [
    "### Importing the libraries"
   ]
  },
  {
   "cell_type": "code",
   "execution_count": 1,
   "metadata": {
    "colab": {},
    "colab_type": "code",
    "id": "sCV30xyVhFbE"
   },
   "outputs": [
    {
     "name": "stderr",
     "output_type": "stream",
     "text": [
      "Using TensorFlow backend.\n"
     ]
    }
   ],
   "source": [
    "import tensorflow as tf\n",
    "from keras.preprocessing.image import ImageDataGenerator"
   ]
  },
  {
   "cell_type": "markdown",
   "metadata": {
    "colab_type": "text",
    "id": "oxQxCBWyoGPE"
   },
   "source": [
    "## Part 1 - Data Preprocessing"
   ]
  },
  {
   "cell_type": "markdown",
   "metadata": {
    "colab_type": "text",
    "id": "MvE-heJNo3GG"
   },
   "source": [
    "### Preprocessing the Training set"
   ]
  },
  {
   "cell_type": "code",
   "execution_count": 2,
   "metadata": {
    "colab": {},
    "colab_type": "code",
    "id": "0koUcJMJpEBD"
   },
   "outputs": [
    {
     "name": "stdout",
     "output_type": "stream",
     "text": [
      "Found 343 images belonging to 2 classes.\n"
     ]
    }
   ],
   "source": [
    "train_datagen = ImageDataGenerator(rescale = 1./255,\n",
    "                                   shear_range = 0.2,\n",
    "                                   zoom_range = 0.2,\n",
    "                                   horizontal_flip = True)\n",
    "training_set = train_datagen.flow_from_directory('dataset/training_set',\n",
    "                                                 target_size = (64, 64),\n",
    "                                                 batch_size = 32,\n",
    "                                                 class_mode = 'binary')"
   ]
  },
  {
   "cell_type": "markdown",
   "metadata": {
    "colab_type": "text",
    "id": "mrCMmGw9pHys"
   },
   "source": [
    "### Preprocessing the Test set"
   ]
  },
  {
   "cell_type": "code",
   "execution_count": 3,
   "metadata": {
    "colab": {},
    "colab_type": "code",
    "id": "SH4WzfOhpKc3"
   },
   "outputs": [
    {
     "name": "stdout",
     "output_type": "stream",
     "text": [
      "Found 112 images belonging to 2 classes.\n"
     ]
    }
   ],
   "source": [
    "test_datagen = ImageDataGenerator(rescale = 1./255)\n",
    "test_set = test_datagen.flow_from_directory('dataset/test_set',\n",
    "                                            target_size = (64, 64),\n",
    "                                            batch_size = 32,\n",
    "                                            class_mode = 'binary')"
   ]
  },
  {
   "cell_type": "markdown",
   "metadata": {
    "colab_type": "text",
    "id": "af8O4l90gk7B"
   },
   "source": [
    "## Part 2 - Building the CNN"
   ]
  },
  {
   "cell_type": "markdown",
   "metadata": {
    "colab_type": "text",
    "id": "ces1gXY2lmoX"
   },
   "source": [
    "### Initialising the CNN"
   ]
  },
  {
   "cell_type": "code",
   "execution_count": 4,
   "metadata": {
    "colab": {},
    "colab_type": "code",
    "id": "SAUt4UMPlhLS"
   },
   "outputs": [],
   "source": [
    "cnn = tf.keras.models.Sequential()"
   ]
  },
  {
   "cell_type": "markdown",
   "metadata": {
    "colab_type": "text",
    "id": "u5YJj_XMl5LF"
   },
   "source": [
    "### Step 1 - Convolution"
   ]
  },
  {
   "cell_type": "code",
   "execution_count": 5,
   "metadata": {
    "colab": {},
    "colab_type": "code",
    "id": "XPzPrMckl-hV"
   },
   "outputs": [],
   "source": [
    "cnn.add(tf.keras.layers.Conv2D(filters=32, kernel_size=3, activation='relu', input_shape=[64, 64,3]))"
   ]
  },
  {
   "cell_type": "markdown",
   "metadata": {
    "colab_type": "text",
    "id": "tf87FpvxmNOJ"
   },
   "source": [
    "### Step 2 - Pooling"
   ]
  },
  {
   "cell_type": "code",
   "execution_count": 6,
   "metadata": {
    "colab": {},
    "colab_type": "code",
    "id": "ncpqPl69mOac"
   },
   "outputs": [],
   "source": [
    "cnn.add(tf.keras.layers.MaxPool2D(pool_size=2, strides=2))"
   ]
  },
  {
   "cell_type": "markdown",
   "metadata": {
    "colab_type": "text",
    "id": "xaTOgD8rm4mU"
   },
   "source": [
    "### Adding a second convolutional layer"
   ]
  },
  {
   "cell_type": "code",
   "execution_count": 7,
   "metadata": {
    "colab": {},
    "colab_type": "code",
    "id": "i_-FZjn_m8gk"
   },
   "outputs": [],
   "source": [
    "cnn.add(tf.keras.layers.Conv2D(filters=32, kernel_size=3, activation='relu'))\n",
    "cnn.add(tf.keras.layers.MaxPool2D(pool_size=2, strides=2))"
   ]
  },
  {
   "cell_type": "markdown",
   "metadata": {
    "colab_type": "text",
    "id": "tmiEuvTunKfk"
   },
   "source": [
    "### Step 3 - Flattening"
   ]
  },
  {
   "cell_type": "code",
   "execution_count": 8,
   "metadata": {
    "colab": {},
    "colab_type": "code",
    "id": "6AZeOGCvnNZn"
   },
   "outputs": [],
   "source": [
    "cnn.add(tf.keras.layers.Flatten())"
   ]
  },
  {
   "cell_type": "markdown",
   "metadata": {
    "colab_type": "text",
    "id": "dAoSECOm203v"
   },
   "source": [
    "### Step 4 - Full Connection"
   ]
  },
  {
   "cell_type": "code",
   "execution_count": 9,
   "metadata": {
    "colab": {},
    "colab_type": "code",
    "id": "8GtmUlLd26Nq"
   },
   "outputs": [],
   "source": [
    "cnn.add(tf.keras.layers.Dense(units=128, activation='relu'))"
   ]
  },
  {
   "cell_type": "markdown",
   "metadata": {
    "colab_type": "text",
    "id": "yTldFvbX28Na"
   },
   "source": [
    "### Step 5 - Output Layer"
   ]
  },
  {
   "cell_type": "code",
   "execution_count": 10,
   "metadata": {
    "colab": {},
    "colab_type": "code",
    "id": "1p_Zj1Mc3Ko_"
   },
   "outputs": [],
   "source": [
    "cnn.add(tf.keras.layers.Dense(units=1, activation='sigmoid'))"
   ]
  },
  {
   "cell_type": "markdown",
   "metadata": {
    "colab_type": "text",
    "id": "D6XkI90snSDl"
   },
   "source": [
    "## Part 3 - Training the CNN"
   ]
  },
  {
   "cell_type": "markdown",
   "metadata": {
    "colab_type": "text",
    "id": "vfrFQACEnc6i"
   },
   "source": [
    "### Compiling the CNN"
   ]
  },
  {
   "cell_type": "code",
   "execution_count": 11,
   "metadata": {
    "colab": {},
    "colab_type": "code",
    "id": "NALksrNQpUlJ"
   },
   "outputs": [],
   "source": [
    "cnn.compile(optimizer = 'adam', loss = 'binary_crossentropy', metrics = ['accuracy'])"
   ]
  },
  {
   "cell_type": "code",
   "execution_count": 12,
   "metadata": {},
   "outputs": [],
   "source": [
    "from PIL import Image"
   ]
  },
  {
   "cell_type": "markdown",
   "metadata": {
    "colab_type": "text",
    "id": "ehS-v3MIpX2h"
   },
   "source": [
    "### Training the CNN on the Training set and evaluating it on the Test set"
   ]
  },
  {
   "cell_type": "code",
   "execution_count": 13,
   "metadata": {
    "colab": {},
    "colab_type": "code",
    "id": "XUj1W4PJptta"
   },
   "outputs": [
    {
     "name": "stdout",
     "output_type": "stream",
     "text": [
      "WARNING:tensorflow:sample_weight modes were coerced from\n",
      "  ...\n",
      "    to  \n",
      "  ['...']\n",
      "WARNING:tensorflow:sample_weight modes were coerced from\n",
      "  ...\n",
      "    to  \n",
      "  ['...']\n",
      "Train for 11 steps, validate for 4 steps\n",
      "Epoch 1/30\n",
      "11/11 [==============================] - 27s 2s/step - loss: 0.5999 - accuracy: 0.7114 - val_loss: 0.4542 - val_accuracy: 0.7946\n",
      "Epoch 2/30\n",
      "11/11 [==============================] - 6s 589ms/step - loss: 0.4921 - accuracy: 0.7609 - val_loss: 0.2742 - val_accuracy: 0.9464\n",
      "Epoch 3/30\n",
      "11/11 [==============================] - 6s 583ms/step - loss: 0.4266 - accuracy: 0.8105 - val_loss: 0.3414 - val_accuracy: 0.8482\n",
      "Epoch 4/30\n",
      "11/11 [==============================] - 6s 576ms/step - loss: 0.3234 - accuracy: 0.8717 - val_loss: 0.1141 - val_accuracy: 0.9732\n",
      "Epoch 5/30\n",
      "11/11 [==============================] - 6s 572ms/step - loss: 0.2779 - accuracy: 0.8921 - val_loss: 0.0800 - val_accuracy: 0.9732\n",
      "Epoch 6/30\n",
      "11/11 [==============================] - 6s 568ms/step - loss: 0.1915 - accuracy: 0.9271 - val_loss: 0.0467 - val_accuracy: 0.9911\n",
      "Epoch 7/30\n",
      "11/11 [==============================] - 7s 598ms/step - loss: 0.1508 - accuracy: 0.9534 - val_loss: 0.0474 - val_accuracy: 0.9911\n",
      "Epoch 8/30\n",
      "11/11 [==============================] - 6s 582ms/step - loss: 0.1169 - accuracy: 0.9679 - val_loss: 0.0531 - val_accuracy: 0.9911\n",
      "Epoch 9/30\n",
      "11/11 [==============================] - 6s 561ms/step - loss: 0.1192 - accuracy: 0.9738 - val_loss: 0.0538 - val_accuracy: 0.9911\n",
      "Epoch 10/30\n",
      "11/11 [==============================] - 6s 570ms/step - loss: 0.0823 - accuracy: 0.9679 - val_loss: 0.0852 - val_accuracy: 0.9732\n",
      "Epoch 11/30\n",
      "11/11 [==============================] - 6s 544ms/step - loss: 0.0788 - accuracy: 0.9767 - val_loss: 0.1121 - val_accuracy: 0.9732\n",
      "Epoch 12/30\n",
      "11/11 [==============================] - 6s 550ms/step - loss: 0.0805 - accuracy: 0.9708 - val_loss: 0.0666 - val_accuracy: 0.9732\n",
      "Epoch 13/30\n",
      "11/11 [==============================] - 7s 599ms/step - loss: 0.1045 - accuracy: 0.9650 - val_loss: 0.1476 - val_accuracy: 0.9643\n",
      "Epoch 14/30\n",
      "11/11 [==============================] - 6s 518ms/step - loss: 0.1061 - accuracy: 0.9621 - val_loss: 0.0957 - val_accuracy: 0.9732\n",
      "Epoch 15/30\n",
      "11/11 [==============================] - 6s 555ms/step - loss: 0.0651 - accuracy: 0.9825 - val_loss: 0.0676 - val_accuracy: 0.9732\n",
      "Epoch 16/30\n",
      "11/11 [==============================] - 6s 584ms/step - loss: 0.0806 - accuracy: 0.9621 - val_loss: 0.0598 - val_accuracy: 0.9732\n",
      "Epoch 17/30\n",
      "11/11 [==============================] - 6s 579ms/step - loss: 0.0746 - accuracy: 0.9738 - val_loss: 0.1422 - val_accuracy: 0.9643\n",
      "Epoch 18/30\n",
      "11/11 [==============================] - 7s 591ms/step - loss: 0.0586 - accuracy: 0.9796 - val_loss: 0.0927 - val_accuracy: 0.9732\n",
      "Epoch 19/30\n",
      "11/11 [==============================] - 6s 589ms/step - loss: 0.0407 - accuracy: 0.9913 - val_loss: 0.1000 - val_accuracy: 0.9732\n",
      "Epoch 20/30\n",
      "11/11 [==============================] - 6s 565ms/step - loss: 0.0334 - accuracy: 0.9942 - val_loss: 0.1659 - val_accuracy: 0.9732\n",
      "Epoch 21/30\n",
      "11/11 [==============================] - 6s 556ms/step - loss: 0.0479 - accuracy: 0.9942 - val_loss: 0.1963 - val_accuracy: 0.9643\n",
      "Epoch 22/30\n",
      "11/11 [==============================] - 6s 511ms/step - loss: 0.0264 - accuracy: 0.9883 - val_loss: 0.1620 - val_accuracy: 0.9732\n",
      "Epoch 23/30\n",
      "11/11 [==============================] - 6s 558ms/step - loss: 0.0987 - accuracy: 0.9650 - val_loss: 0.0863 - val_accuracy: 0.9732\n",
      "Epoch 24/30\n",
      "11/11 [==============================] - 7s 600ms/step - loss: 0.0878 - accuracy: 0.9708 - val_loss: 0.1461 - val_accuracy: 0.9643\n",
      "Epoch 25/30\n",
      "11/11 [==============================] - 6s 539ms/step - loss: 0.0500 - accuracy: 0.9883 - val_loss: 0.1037 - val_accuracy: 0.9732\n",
      "Epoch 26/30\n",
      "11/11 [==============================] - 6s 558ms/step - loss: 0.0459 - accuracy: 0.9913 - val_loss: 0.1652 - val_accuracy: 0.9643\n",
      "Epoch 27/30\n",
      "11/11 [==============================] - 6s 567ms/step - loss: 0.0372 - accuracy: 0.9854 - val_loss: 0.2866 - val_accuracy: 0.9643\n",
      "Epoch 28/30\n",
      "11/11 [==============================] - 6s 590ms/step - loss: 0.0185 - accuracy: 0.9971 - val_loss: 0.1922 - val_accuracy: 0.9643\n",
      "Epoch 29/30\n",
      "11/11 [==============================] - 7s 592ms/step - loss: 0.0173 - accuracy: 0.9971 - val_loss: 0.1646 - val_accuracy: 0.9643\n",
      "Epoch 30/30\n",
      "11/11 [==============================] - 6s 563ms/step - loss: 0.0323 - accuracy: 0.9854 - val_loss: 0.2601 - val_accuracy: 0.9643\n"
     ]
    },
    {
     "data": {
      "text/plain": [
       "<tensorflow.python.keras.callbacks.History at 0x24e31015630>"
      ]
     },
     "execution_count": 13,
     "metadata": {},
     "output_type": "execute_result"
    }
   ],
   "source": [
    "cnn.fit(x = training_set, validation_data = test_set, epochs = 30)"
   ]
  },
  {
   "cell_type": "markdown",
   "metadata": {
    "colab_type": "text",
    "id": "U3PZasO0006Z"
   },
   "source": [
    "## Part 4 - Making a single prediction"
   ]
  },
  {
   "cell_type": "code",
   "execution_count": 14,
   "metadata": {
    "colab": {},
    "colab_type": "code",
    "id": "gsSiWEJY1BPB"
   },
   "outputs": [],
   "source": [
    "import numpy as np\n",
    "from keras.preprocessing import image\n",
    "test_image = image.load_img('dataset/single_prediction/normal (2).png', target_size = (64, 64))\n",
    "test_image = image.img_to_array(test_image)\n",
    "test_image = np.expand_dims(test_image, axis = 0)\n",
    "result = cnn.predict(test_image)\n",
    "training_set.class_indices\n",
    "if result[0][0] == 1:\n",
    "  prediction = 'normal'\n",
    "else:\n",
    "  prediction = 'cancer'"
   ]
  },
  {
   "cell_type": "code",
   "execution_count": 15,
   "metadata": {
    "colab": {},
    "colab_type": "code",
    "id": "ED9KB3I54c1i"
   },
   "outputs": [
    {
     "name": "stdout",
     "output_type": "stream",
     "text": [
      "normal\n"
     ]
    }
   ],
   "source": [
    "print(prediction)"
   ]
  },
  {
   "cell_type": "code",
   "execution_count": null,
   "metadata": {},
   "outputs": [],
   "source": []
  }
 ],
 "metadata": {
  "colab": {
   "collapsed_sections": [],
   "name": "Copy of convolutional_neural_network.ipynb",
   "provenance": [],
   "toc_visible": true
  },
  "kernelspec": {
   "display_name": "Python 3",
   "language": "python",
   "name": "python3"
  },
  "language_info": {
   "codemirror_mode": {
    "name": "ipython",
    "version": 3
   },
   "file_extension": ".py",
   "mimetype": "text/x-python",
   "name": "python",
   "nbconvert_exporter": "python",
   "pygments_lexer": "ipython3",
   "version": "3.6.10"
  }
 },
 "nbformat": 4,
 "nbformat_minor": 1
}
